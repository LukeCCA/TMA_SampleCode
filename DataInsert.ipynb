{
 "cells": [
  {
   "cell_type": "code",
   "execution_count": 7,
   "metadata": {
    "collapsed": true
   },
   "outputs": [],
   "source": [
    "import os\n",
    "import lmdb \n",
    "import numpy as np\n",
    "import pandas as pd\n",
    "from matplotlib import pyplot as plt"
   ]
  },
  {
   "cell_type": "code",
   "execution_count": 8,
   "metadata": {
    "collapsed": true
   },
   "outputs": [],
   "source": [
    "y_train = [\"壹萬元整\",\"陸萬元整\",\"參拾貳萬肆仟元整\",\"伍萬元整\",\"壹萬元整\",\"參仟肆佰陸拾肆元整\",\"參仟伍佰壹拾參元整\",\"參仟肆佰貳拾元整\",\"壹萬元整\",\"貳拾參萬陸仟元整\"]"
   ]
  },
  {
   "cell_type": "code",
   "execution_count": 9,
   "metadata": {},
   "outputs": [],
   "source": [
    "data = []\n",
    "for g in os.listdir('/Users/chienan/Job/CNN/cut/'):\n",
    "    data.append(plt.imread('./cut/%s'%(g)))\n",
    "data = data[:10]\n",
    "X = np.array([i.reshape(1,32,100) for i in data])/255"
   ]
  },
  {
   "cell_type": "code",
   "execution_count": 10,
   "metadata": {
    "collapsed": true
   },
   "outputs": [],
   "source": [
    "def writeCache(env, cache):\n",
    "    with env.begin(write=True) as txn:\n",
    "        for k, v in cache.iteritems():\n",
    "            txn.put(k, v)"
   ]
  },
  {
   "cell_type": "code",
   "execution_count": 11,
   "metadata": {
    "collapsed": true
   },
   "outputs": [],
   "source": [
    "def read_text(path):\n",
    "    with open(path) as f:\n",
    "        text = f.read()\n",
    "    text = text.strip()\n",
    "    return text"
   ]
  },
  {
   "cell_type": "code",
   "execution_count": 12,
   "metadata": {
    "collapsed": true
   },
   "outputs": [],
   "source": [
    "text_file = y_train\n",
    "image_file = os.listdir('/Users/chienan/Job/CNN/cut/')[:10]\n",
    "outputPath_train = '/Users/chienan/Job/CNN/lmdb/'"
   ]
  },
  {
   "cell_type": "code",
   "execution_count": 13,
   "metadata": {},
   "outputs": [],
   "source": [
    "env_train = lmdb.open(outputPath_train, map_size=1099511627776)"
   ]
  },
  {
   "cell_type": "code",
   "execution_count": 14,
   "metadata": {
    "collapsed": true
   },
   "outputs": [],
   "source": [
    "# env = lmdb.open(\n",
    "#             outputPath,\n",
    "#             max_readers=1,\n",
    "#             readonly=False,\n",
    "#             lock=False,\n",
    "#             readahead=False,\n",
    "#             meminit=False)"
   ]
  },
  {
   "cell_type": "code",
   "execution_count": 16,
   "metadata": {
    "scrolled": true
   },
   "outputs": [
    {
     "name": "stdout",
     "output_type": "stream",
     "text": [
      "Written 1 / 10\n",
      "Written 2 / 10\n",
      "Written 3 / 10\n",
      "Written 4 / 10\n",
      "Written 5 / 10\n",
      "Written 6 / 10\n",
      "Written 7 / 10\n",
      "Written 8 / 10\n",
      "Written 9 / 10\n",
      "Written 10 / 10\n"
     ]
    }
   ],
   "source": [
    "cnt = 1\n",
    "cache = {}\n",
    "nSamples = len(image_file)\n",
    "for i in range(nSamples):\n",
    "    imagePath = '/Users/chienan/Job/CNN/cut/'+image_file[i]\n",
    "    label = text_file[i]\n",
    "    if not os.path.exists(imagePath):\n",
    "        print('%s does not exist' % imagePath)\n",
    "        continue\n",
    "    with open(imagePath,'rb') as f:\n",
    "        image = f.read()\n",
    "    imageKey = 'image-%09d' % cnt\n",
    "    labelKey = 'label-%09d' % cnt\n",
    "    cache[imageKey] = image\n",
    "    cache[labelKey] = label.encode()\n",
    "    \n",
    "    if cnt % 1 == 0:\n",
    "        with env_train.begin(write=True) as txn:\n",
    "            for k, v in zip(cache.keys(),cache.values()):                \n",
    "                txn.put(k.encode(), v)                \n",
    "        cache = {}\n",
    "        print('Written %d / %d' % (cnt, nSamples))\n",
    "    cnt += 1\n",
    "nSamples = cnt-1"
   ]
  },
  {
   "cell_type": "code",
   "execution_count": 17,
   "metadata": {},
   "outputs": [
    {
     "name": "stdout",
     "output_type": "stream",
     "text": [
      "Created dataset with 10 samples\n"
     ]
    }
   ],
   "source": [
    "cache['num-samples'] = str(nSamples)\n",
    "\n",
    "with env_train.begin(write=True) as txn:\n",
    "    for k, v in zip(cache.keys(),cache.values()):\n",
    "        txn.put(k.encode(), v.encode())\n",
    "print('Created dataset with %d samples' % nSamples)"
   ]
  },
  {
   "cell_type": "code",
   "execution_count": 18,
   "metadata": {
    "collapsed": true,
    "scrolled": true
   },
   "outputs": [],
   "source": [
    "with env_train.begin(write=False) as txn:\n",
    "    t= txn.get(\"label-000000009\".encode())"
   ]
  },
  {
   "cell_type": "code",
   "execution_count": 21,
   "metadata": {},
   "outputs": [
    {
     "data": {
      "text/plain": [
       "'壹萬元整'"
      ]
     },
     "execution_count": 21,
     "metadata": {},
     "output_type": "execute_result"
    }
   ],
   "source": [
    "t.decode()"
   ]
  },
  {
   "cell_type": "code",
   "execution_count": null,
   "metadata": {
    "collapsed": true
   },
   "outputs": [],
   "source": []
  },
  {
   "cell_type": "code",
   "execution_count": null,
   "metadata": {
    "collapsed": true
   },
   "outputs": [],
   "source": []
  },
  {
   "cell_type": "code",
   "execution_count": null,
   "metadata": {
    "collapsed": true
   },
   "outputs": [],
   "source": []
  },
  {
   "cell_type": "code",
   "execution_count": null,
   "metadata": {
    "collapsed": true
   },
   "outputs": [],
   "source": []
  },
  {
   "cell_type": "code",
   "execution_count": null,
   "metadata": {
    "collapsed": true
   },
   "outputs": [],
   "source": []
  }
 ],
 "metadata": {
  "kernelspec": {
   "display_name": "Python 3",
   "language": "python",
   "name": "python3"
  },
  "language_info": {
   "codemirror_mode": {
    "name": "ipython",
    "version": 3
   },
   "file_extension": ".py",
   "mimetype": "text/x-python",
   "name": "python",
   "nbconvert_exporter": "python",
   "pygments_lexer": "ipython3",
   "version": "3.6.2"
  }
 },
 "nbformat": 4,
 "nbformat_minor": 2
}
